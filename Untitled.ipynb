{
 "cells": [
  {
   "cell_type": "code",
   "execution_count": null,
   "metadata": {},
   "outputs": [],
   "source": [
    "bool comparator(Point2f a,Point2f b){  \n",
    "    return a.x<b.x;  \n",
    "}  \n",
    "void sortCorners(std::vector<cv::Point2f>& corners, cv::Point2f center)  \n",
    "{  \n",
    "    std::vector<cv::Point2f> top, bot;  \n",
    "    for (int i = 0; i < corners.size(); i++)  \n",
    "    {  \n",
    "        if (corners[i].y < center.y)  \n",
    "        top.push_back(corners[i]);  \n",
    "        else  \n",
    "        bot.push_back(corners[i]);  \n",
    "    }  \n",
    "    sort(top.begin(),top.end(),comparator);  \n",
    "    sort(bot.begin(),bot.end(),comparator);  \n",
    "    cv::Point2f tl = top[0];\n",
    "    cv::Point2f tr = top[top.size()-1];\n",
    "    cv::Point2f bl = bot[0];\n",
    "    cv::Point2f br = bot[bot.size()-1];  \n",
    "    corners.clear();  \n",
    "    corners.push_back(tl);  \n",
    "    corners.push_back(tr);  \n",
    "    corners.push_back(br);  \n",
    "    corners.push_back(bl);  \n",
    "}\n",
    "\n",
    "\n",
    "for(int i=0;i<corners.size();i++)\n",
    "{  \n",
    "    cv::Point2f center(0,0);  \n",
    "    if(corners[i].size()<4) continue;  \n",
    "    for(int j=0;j<corners[i].size();j++)\n",
    "    {  \n",
    "        center += corners[i][j];  \n",
    "    }  \n",
    "    center *= (1. / corners[i].size());  \n",
    "    sortCorners(corners[i], center);  \n",
    "}  "
   ]
  }
 ],
 "metadata": {
  "kernelspec": {
   "display_name": "Python 3",
   "language": "python",
   "name": "python3"
  },
  "language_info": {
   "codemirror_mode": {
    "name": "ipython",
    "version": 3
   },
   "file_extension": ".py",
   "mimetype": "text/x-python",
   "name": "python",
   "nbconvert_exporter": "python",
   "pygments_lexer": "ipython3",
   "version": "3.6.7"
  }
 },
 "nbformat": 4,
 "nbformat_minor": 2
}
