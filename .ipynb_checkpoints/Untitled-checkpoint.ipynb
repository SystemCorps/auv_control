{
 "cells": [
  {
   "cell_type": "code",
   "execution_count": null,
   "metadata": {},
   "outputs": [],
   "source": [
    "int* poly = new int[lines.size()];  \n",
    "  for(int i=0;i<lines.size();i++)poly[i] = - 1;  \n",
    "  int curPoly = 0;  \n",
    "       vector<vector<cv::Point2f> > corners;  \n",
    "      for (int i = 0; i < lines.size(); i++)  \n",
    "      {  \n",
    "           for (int j = i+1; j < lines.size(); j++)  \n",
    "           {  \n",
    "          \n",
    "                cv::Point2f pt = computeIntersect(lines[i], lines[j]);  \n",
    "                if (pt.x >= 0 && pt.y >= 0&&pt.x<img2.size().width&&pt.y<img2.size().height){  \n",
    "              \n",
    "                     if(poly[i]==-1&&poly[j] == -1){  \n",
    "                          vector<Point2f> v;  \n",
    "                          v.push_back(pt);  \n",
    "                          corners.push_back(v);       \n",
    "                          poly[i] = curPoly;  \n",
    "                          poly[j] = curPoly;  \n",
    "                          curPoly++;  \n",
    "                          continue;  \n",
    "                     }  \n",
    "                     if(poly[i]==-1&&poly[j]>=0){  \n",
    "                          corners[poly[j]].push_back(pt);  \n",
    "                          poly[i] = poly[j];  \n",
    "                          continue;  \n",
    "                     }  \n",
    "                     if(poly[i]>=0&&poly[j]==-1){  \n",
    "                          corners[poly[i]].push_back(pt);  \n",
    "                          poly[j] = poly[i];  \n",
    "                          continue;  \n",
    "                     }  \n",
    "                     if(poly[i]>=0&&poly[j]>=0){  \n",
    "                          if(poly[i]==poly[j]){  \n",
    "                               corners[poly[i]].push_back(pt);  \n",
    "                               continue;  \n",
    "                          }  \n",
    "                        \n",
    "                          for(int k=0;k<corners[poly[j]].size();k++){  \n",
    "                               corners[poly[i]].push_back(corners[poly[j]][k]);  \n",
    "                          }  \n",
    "                       \n",
    "                          corners[poly[j]].clear();  \n",
    "                          poly[j] = poly[i];  \n",
    "                          continue;  \n",
    "                     }  \n",
    "                }  \n",
    "           }  \n",
    "      }  "
   ]
  }
 ],
 "metadata": {
  "kernelspec": {
   "display_name": "Python 3",
   "language": "python",
   "name": "python3"
  },
  "language_info": {
   "codemirror_mode": {
    "name": "ipython",
    "version": 3
   },
   "file_extension": ".py",
   "mimetype": "text/x-python",
   "name": "python",
   "nbconvert_exporter": "python",
   "pygments_lexer": "ipython3",
   "version": "3.6.7"
  }
 },
 "nbformat": 4,
 "nbformat_minor": 2
}
